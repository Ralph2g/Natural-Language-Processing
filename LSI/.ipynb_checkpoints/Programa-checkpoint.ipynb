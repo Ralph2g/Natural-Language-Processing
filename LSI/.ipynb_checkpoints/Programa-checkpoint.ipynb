{
 "cells": [
  {
   "cell_type": "code",
   "execution_count": 1,
   "metadata": {},
   "outputs": [],
   "source": [
    "from nltk.corpus import stopwords \n",
    "from nltk.stem.wordnet import WordNetLemmatizer\n",
    "import string\n",
    "import gensim\n",
    "from gensim import corpora\n",
    "\n",
    "d1 = open(\"art2.txt\")\n",
    "d2 = open(\"art3.txt\")\n",
    "d3 = open(\"art4.txt\")\n",
    "d4 = open(\"art5.txt\")\n",
    "d5 = open(\"art6.txt\")\n",
    "#example documents\n",
    "doc1 = d1.read()\n",
    "doc2 = d2.read()\n",
    "doc3 = d3.read()\n",
    "doc4 = d4.read()\n",
    "doc5 = d5.read()\n",
    "\n",
    "#compile documents\n",
    "doc_complete = [doc1, doc2, doc3, doc4, doc5]\n",
    "\n",
    "#clean documents\n",
    "stop = set(stopwords.words('english'))\n",
    "\n",
    "exclude = set(string.punctuation)\n",
    "\n",
    "lemma = WordNetLemmatizer()\n",
    "\n",
    "def clean(doc):\n",
    "    stop_free = \" \".join([i for i in doc.lower().split() if i not in stop])\n",
    "    punc_free = ''.join(ch for ch in stop_free if ch not in exclude)\n",
    "    normalized = \" \".join(lemma.lemmatize(word) for word in punc_free.split())\n",
    "    return normalized #each doc is a string\n",
    "\n",
    "#tokenize each doc, so doc_clean is a list of lists of tokens\n",
    "doc_clean = [clean(doc).split() for doc in doc_complete] \n",
    "\n",
    "\n",
    "'''Creating the term dictionary of our courpus, where every unique term is assigned an index.'''\n",
    "dictionary = corpora.Dictionary(doc_clean)\n",
    "\n",
    "'''Converting list of documents (corpus) into Document Term Matrix using dictionary prepared above.'''\n",
    "doc_term_matrix = [dictionary.doc2bow(doc) for doc in doc_clean]\n",
    "\n",
    "'''Creating the object for LDA model using gensim library'''\n",
    "Lda = gensim.models.ldamodel.LdaModel\n",
    "\n",
    "'''Running and Trainign LDA model on the document term matrix.'''\n",
    "ldamodel = Lda(doc_term_matrix, num_topics=3, id2word = dictionary, passes=50)\n",
    "\n",
    "print(ldamodel.print_topics(num_topics=6, num_words=3))\n",
    "\n"
   ]
  },
  {
   "cell_type": "code",
   "execution_count": null,
   "metadata": {},
   "outputs": [],
   "source": []
  }
 ],
 "metadata": {
  "kernelspec": {
   "display_name": "Python 3",
   "language": "python",
   "name": "python3"
  },
  "language_info": {
   "codemirror_mode": {
    "name": "ipython",
    "version": 3
   },
   "file_extension": ".py",
   "mimetype": "text/x-python",
   "name": "python",
   "nbconvert_exporter": "python",
   "pygments_lexer": "ipython3",
   "version": "3.7.4"
  }
 },
 "nbformat": 4,
 "nbformat_minor": 4
}
